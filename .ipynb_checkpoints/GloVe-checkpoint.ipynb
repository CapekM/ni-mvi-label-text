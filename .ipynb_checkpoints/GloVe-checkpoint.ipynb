{
 "cells": [
  {
   "cell_type": "code",
   "execution_count": null,
   "metadata": {},
   "outputs": [],
   "source": [
    "from numpy import array\n",
    "from keras.preprocessing.sequence import pad_sequences\n",
    "from keras.models import Sequential\n",
    "from keras.layers.core import Activation, Dropout, Dense\n",
    "from keras.layers import Flatten, LSTM\n",
    "from keras.layers import GlobalMaxPooling1D\n",
    "from keras.models import Model\n",
    "from keras.layers.embeddings import Embedding\n",
    "from sklearn.model_selection import train_test_split\n",
    "from keras.preprocessing.text import Tokenizer\n",
    "from keras.layers import Input\n",
    "from keras.layers.merge import Concatenate\n",
    "import keras\n",
    "import pandas as pd\n",
    "import numpy as np\n",
    "import re\n",
    "\n",
    "import matplotlib.pyplot as plt\n",
    "import json"
   ]
  },
  {
   "cell_type": "code",
   "execution_count": 10,
   "metadata": {},
   "outputs": [
    {
     "data": {
      "text/plain": [
       "3737"
      ]
     },
     "execution_count": 10,
     "metadata": {},
     "output_type": "execute_result"
    }
   ],
   "source": [
    "f = open('data.json', encoding=\"utf8\")\n",
    "data = json.load(f)\n",
    "len(data)"
   ]
  },
  {
   "cell_type": "code",
   "execution_count": 11,
   "metadata": {},
   "outputs": [],
   "source": [
    "for d in data:\n",
    "    d['text'] = d['title'] + d['text']"
   ]
  },
  {
   "cell_type": "code",
   "execution_count": 12,
   "metadata": {},
   "outputs": [
    {
     "data": {
      "text/html": [
       "<div>\n",
       "<style scoped>\n",
       "    .dataframe tbody tr th:only-of-type {\n",
       "        vertical-align: middle;\n",
       "    }\n",
       "\n",
       "    .dataframe tbody tr th {\n",
       "        vertical-align: top;\n",
       "    }\n",
       "\n",
       "    .dataframe thead th {\n",
       "        text-align: right;\n",
       "    }\n",
       "</style>\n",
       "<table border=\"1\" class=\"dataframe\">\n",
       "  <thead>\n",
       "    <tr style=\"text-align: right;\">\n",
       "      <th></th>\n",
       "      <th>labels</th>\n",
       "      <th>text</th>\n",
       "    </tr>\n",
       "  </thead>\n",
       "  <tbody>\n",
       "    <tr>\n",
       "      <th>0</th>\n",
       "      <td>[Coronavirus]</td>\n",
       "      <td>Coronavirus: Royal Mail's Derry staff in stand...</td>\n",
       "    </tr>\n",
       "    <tr>\n",
       "      <th>1</th>\n",
       "      <td>[US election 2020, Donald Trump]</td>\n",
       "      <td>US election 2020 polls: Who is ahead - Trump o...</td>\n",
       "    </tr>\n",
       "    <tr>\n",
       "      <th>2</th>\n",
       "      <td>[Personal finance, Companies, Retailing, Coron...</td>\n",
       "      <td>Visa and Mastercard accused of charging 'exces...</td>\n",
       "    </tr>\n",
       "    <tr>\n",
       "      <th>3</th>\n",
       "      <td>[United States]</td>\n",
       "      <td>Jeff Bridges: Oscar-winning US actor reveals h...</td>\n",
       "    </tr>\n",
       "    <tr>\n",
       "      <th>4</th>\n",
       "      <td>[Boris Johnson, Brexit]</td>\n",
       "      <td>Brexit: Have EU-UK trade talks reached a dead ...</td>\n",
       "    </tr>\n",
       "  </tbody>\n",
       "</table>\n",
       "</div>"
      ],
      "text/plain": [
       "                                              labels  \\\n",
       "0                                      [Coronavirus]   \n",
       "1                   [US election 2020, Donald Trump]   \n",
       "2  [Personal finance, Companies, Retailing, Coron...   \n",
       "3                                    [United States]   \n",
       "4                            [Boris Johnson, Brexit]   \n",
       "\n",
       "                                                text  \n",
       "0  Coronavirus: Royal Mail's Derry staff in stand...  \n",
       "1  US election 2020 polls: Who is ahead - Trump o...  \n",
       "2  Visa and Mastercard accused of charging 'exces...  \n",
       "3  Jeff Bridges: Oscar-winning US actor reveals h...  \n",
       "4  Brexit: Have EU-UK trade talks reached a dead ...  "
      ]
     },
     "execution_count": 12,
     "metadata": {},
     "output_type": "execute_result"
    }
   ],
   "source": [
    "df = pd.DataFrame(data)\n",
    "del df['website']\n",
    "del df['title']\n",
    "df.head()"
   ]
  },
  {
   "cell_type": "code",
   "execution_count": 13,
   "metadata": {},
   "outputs": [
    {
     "data": {
      "text/plain": [
       "array([[0, 0, 0, ..., 0, 0, 0],\n",
       "       [0, 0, 0, ..., 1, 0, 0],\n",
       "       [0, 0, 0, ..., 0, 0, 0],\n",
       "       ...,\n",
       "       [0, 0, 0, ..., 0, 0, 0],\n",
       "       [0, 0, 0, ..., 0, 0, 0],\n",
       "       [0, 0, 0, ..., 0, 0, 0]])"
      ]
     },
     "execution_count": 13,
     "metadata": {},
     "output_type": "execute_result"
    }
   ],
   "source": [
    "from sklearn.preprocessing import MultiLabelBinarizer\n",
    "mlb = MultiLabelBinarizer()\n",
    "y = mlb.fit_transform(df['labels'])\n",
    "number_of_classes = y.shape[1]\n",
    "y"
   ]
  },
  {
   "cell_type": "code",
   "execution_count": 14,
   "metadata": {},
   "outputs": [],
   "source": [
    "# # split DF\n",
    "# df_bin = pd.DataFrame(y, columns=mlb.classes_)\n",
    "# df_bin['text'] = df['text']"
   ]
  },
  {
   "cell_type": "code",
   "execution_count": 15,
   "metadata": {},
   "outputs": [],
   "source": [
    "# def split_df(df, num):\n",
    "#     test_df = pd.DataFrame([], columns = df.columns)\n",
    "#     # TODO\n",
    "\n",
    "# train_df, test_df = split_df(df_bin, 0.2)"
   ]
  },
  {
   "cell_type": "code",
   "execution_count": 16,
   "metadata": {},
   "outputs": [],
   "source": [
    "# X_train = np.array(train_df.pop('text'))\n",
    "# # val_labels = np.array(val_df.pop('text'))\n",
    "# X_test = np.array(test_df.pop('text'))\n",
    "\n",
    "# y_train = np.array(train_df)\n",
    "# # val_features = np.array(val_df)\n",
    "# y_test = np.array(test_df)"
   ]
  },
  {
   "cell_type": "code",
   "execution_count": null,
   "metadata": {},
   "outputs": [],
   "source": []
  },
  {
   "cell_type": "code",
   "execution_count": 17,
   "metadata": {},
   "outputs": [],
   "source": [
    "def preprocess_text(sen):\n",
    "    # Remove punctuations and numbers\n",
    "    sentence = re.sub('[^a-zA-Z]', ' ', sen)\n",
    "\n",
    "    # Single character removal\n",
    "    sentence = re.sub(r\"\\s+[a-zA-Z]\\s+\", ' ', sentence)\n",
    "\n",
    "    # Removing multiple spaces\n",
    "    sentence = re.sub(r'\\s+', ' ', sentence)\n",
    "\n",
    "    return sentence"
   ]
  },
  {
   "cell_type": "code",
   "execution_count": 18,
   "metadata": {},
   "outputs": [],
   "source": [
    "X = []\n",
    "sentences = list(df[\"text\"])\n",
    "for sen in sentences:\n",
    "    X.append(preprocess_text(sen))"
   ]
  },
  {
   "cell_type": "code",
   "execution_count": 19,
   "metadata": {},
   "outputs": [
    {
     "name": "stdout",
     "output_type": "stream",
     "text": [
      "Before:\n",
      "Coronavirus: Royal Mail's Derry staff in standoff over deep cleanRoyal Mail staff in Londonderry have refused to enter the city's sorting office until a deep clean of the premises is carried out. More than 40 staff - a third of its 120-strong workforce - are off work because of Covid-19, the Communication Workers' Union (CWU) said. The union said 17 staff at the office have tested positive, with 13 of those having been diagnosed since Friday. A further 25 members of staff are self-isolating, it added. The CWU's Charlie Kelly said it is a \"scary time for staff\". He said it is \"highly unlikely\" there will be a postal service in the city on Tuesday. \"Staff want a commitment as to when it (the deep clean) is going to get done,\" he said.  \"Until we get that commitment they say they are not going back into the building because they feel their health and safety is under threat.\" Staff and management are due to hold talks later on Tuesday morning. There have been 4,292 confirmed cases in the Derry and Strabane council area since March - 1,160 of them were diagnosed in the past seven days. BBC News NI have asked Royal Mail for comment. Royal Mail has previously warned postal services could be disrupted in some areas due to absences but that measures are in place to protect staff.  \"As well as encouraging good hand hygiene, standard ways of working have been revised to ensure that colleagues maintain appropriate social distancing at all times,\" a spokesperson said.\n",
      "\n",
      "After:\n",
      "Coronavirus Royal Mail Derry staff in standoff over deep cleanRoyal Mail staff in Londonderry have refused to enter the city sorting office until deep clean of the premises is carried out More than staff third of its strong workforce are off work because of Covid the Communication Workers Union CWU said The union said staff at the office have tested positive with of those having been diagnosed since Friday further members of staff are self isolating it added The CWU Charlie Kelly said it is scary time for staff He said it is highly unlikely there will be postal service in the city on Tuesday Staff want commitment as to when it the deep clean is going to get done he said Until we get that commitment they say they are not going back into the building because they feel their health and safety is under threat Staff and management are due to hold talks later on Tuesday morning There have been confirmed cases in the Derry and Strabane council area since March of them were diagnosed in the past seven days BBC News NI have asked Royal Mail for comment Royal Mail has previously warned postal services could be disrupted in some areas due to absences but that measures are in place to protect staff As well as encouraging good hand hygiene standard ways of working have been revised to ensure that colleagues maintain appropriate social distancing at all times spokesperson said \n"
     ]
    }
   ],
   "source": [
    "print(\"Before:\\n\" + df[\"text\"][0])\n",
    "print()\n",
    "print(\"After:\\n\" + X[0])"
   ]
  },
  {
   "cell_type": "code",
   "execution_count": 20,
   "metadata": {},
   "outputs": [],
   "source": [
    "tags = {}\n",
    "for t in mlb.classes_:\n",
    "    tags[t] = 0\n",
    "for l in df['labels']:\n",
    "    for t in l:\n",
    "        tags[t] += 1\n",
    "\n",
    "for t in tags:\n",
    "    tags[t] = (int)(tags[t]*0.2)\n",
    "\n",
    "# val_tags = {}\n",
    "# for t in tags:\n",
    "#     val_tags[t] = (int)(tags[t])\n",
    "\n",
    "val_tags = tags.copy()"
   ]
  },
  {
   "cell_type": "code",
   "execution_count": 21,
   "metadata": {},
   "outputs": [],
   "source": [
    "X_train = []\n",
    "X_test = []\n",
    "X_val = []\n",
    "\n",
    "y_train = np.empty(shape=(0,len(mlb.classes_)),dtype=int)\n",
    "y_test = np.empty(shape=(0,len(mlb.classes_)),dtype=int)\n",
    "y_val = np.empty(shape=(0,len(mlb.classes_)),dtype=int)\n",
    "\n",
    "for x in range(len(X)):\n",
    "    flag = 0\n",
    "    for t in df.iloc[x]['labels']:\n",
    "        if(tags[t] > 0):\n",
    "            flag = 1\n",
    "            break;\n",
    "        elif(val_tags[t] > 0):\n",
    "            flag = 2\n",
    "            break;\n",
    "        \n",
    "    if flag == 1:\n",
    "        for t in df.iloc[x]['labels']:\n",
    "            tags[t] -= 1\n",
    "        X_test.append(df.iloc[x]['text'])\n",
    "        y_test = np.vstack([y_test, y[x]])\n",
    "    elif flag == 2:\n",
    "        for t in df.iloc[x]['labels']:\n",
    "            val_tags[t] -= 1\n",
    "        X_val.append(df.iloc[x]['text'])\n",
    "        y_val = np.vstack([y_val, y[x]])\n",
    "    else:\n",
    "        X_train.append(df.iloc[x]['text'])\n",
    "        y_train = np.vstack([y_train, y[x]])"
   ]
  },
  {
   "cell_type": "code",
   "execution_count": 22,
   "metadata": {},
   "outputs": [
    {
     "name": "stdout",
     "output_type": "stream",
     "text": [
      "Splitted to train 2228, validation 780 and test 729 \n"
     ]
    }
   ],
   "source": [
    "print(f\"Splitted to train {len(X_train)}, validation {len(X_val)} and test {len(X_test)} \")"
   ]
  },
  {
   "cell_type": "code",
   "execution_count": 23,
   "metadata": {},
   "outputs": [
    {
     "data": {
      "image/png": "[encoded data removed]",
      "text/plain": [
       "<Figure size 1440x360 with 1 Axes>"
      ]
     },
     "metadata": {
      "needs_background": "light"
     },
     "output_type": "display_data"
    }
   ],
   "source": [
    "sum_y = y.sum(axis = 0)\n",
    "sum_y_train = y_train.sum(axis = 0)\n",
    "sum_y_test = y_test.sum(axis = 0)\n",
    "sum_y_val = y_val.sum(axis = 0)\n",
    "\n",
    "xloc = np.arange(y.shape[1])\n",
    "barWidth = 0.8\n",
    "\n",
    "#display stacked bar chart\n",
    "plt.figure(figsize=(20,5))\n",
    "p1 = plt.bar(xloc, sum_y_train, width=barWidth)\n",
    "p2 = plt.bar(xloc, sum_y_val, bottom=sum_y_train, width=barWidth)\n",
    "p3 = plt.bar(xloc, sum_y_test, bottom=sum_y_train+sum_y_val, width=barWidth)\n",
    "plt.xticks(xloc, mlb.classes_)\n",
    "plt.legend((p1[0], p2[0], p3[0]), ('Train', 'Val', 'Test'))\n",
    "# plt.savefig(\"train_test_split_ratio.png\")\n",
    "plt.show()"
   ]
  },
  {
   "cell_type": "code",
   "execution_count": 24,
   "metadata": {},
   "outputs": [
    {
     "data": {
      "text/plain": [
       "{0: 1.0991176470588235,\n",
       " 1: 0.6745487364620939,\n",
       " 2: 1.597008547008547,\n",
       " 3: 0.63125,\n",
       " 4: 0.5969648562300319,\n",
       " 5: 0.09844573234984193,\n",
       " 6: 0.7689300411522634,\n",
       " 7: 1.415530303030303,\n",
       " 8: 1.3442446043165468,\n",
       " 9: 0.8195175438596491,\n",
       " 10: 1.2212418300653596,\n",
       " 11: 0.7564777327935223,\n",
       " 12: 1.4484496124031008,\n",
       " 13: 1.3346428571428572,\n",
       " 14: 1.831862745098039,\n",
       " 15: 1.831862745098039,\n",
       " 16: 0.801931330472103,\n",
       " 17: 1.8684999999999998,\n",
       " 18: 0.5611111111111111,\n",
       " 19: 1.4373076923076924}"
      ]
     },
     "execution_count": 24,
     "metadata": {},
     "output_type": "execute_result"
    }
   ],
   "source": [
    "# We have imbalanced data, so we will use class_weight\n",
    "class_weight = {}\n",
    "for x in range(number_of_classes):\n",
    "    class_weight[x] = (1 / sum_y[x])*(len(data))/number_of_classes\n",
    "class_weight"
   ]
  },
  {
   "cell_type": "code",
   "execution_count": 25,
   "metadata": {},
   "outputs": [
    {
     "name": "stdout",
     "output_type": "stream",
     "text": [
      " \t97\t35, 20.59%\t38, 22.35%\n",
      " \t166\t56, 20.22%\t55, 19.86%\n",
      " \t70\t23, 19.66%\t24, 20.51%\n",
      " \t177\t59, 19.93%\t60, 20.27%\n",
      " \t185\t64, 20.45%\t64, 20.45%\n",
      " \t1078\t399, 21.02%\t421, 22.18%\n",
      " \t142\t52, 21.40%\t49, 20.16%\n",
      " \t73\t26, 19.70%\t33, 25.00%\n",
      " \t83\t27, 19.42%\t29, 20.86%\n",
      " \t138\t45, 19.74%\t45, 19.74%\n",
      " \t93\t30, 19.61%\t30, 19.61%\n",
      " \t146\t50, 20.24%\t51, 20.65%\n",
      " \t79\t25, 19.38%\t25, 19.38%\n",
      " \t75\t30, 21.43%\t35, 25.00%\n",
      " \t51\t21, 20.59%\t30, 29.41%\n",
      " \t61\t20, 19.61%\t21, 20.59%\n",
      " \t133\t49, 21.03%\t51, 21.89%\n",
      " \t41\t25, 25.00%\t34, 34.00%\n",
      " \t197\t66, 19.82%\t70, 21.02%\n",
      " \t70\t26, 20.00%\t34, 26.15%\n"
     ]
    }
   ],
   "source": [
    "for x in range(len(sum_y_train)):\n",
    "    print(f\" \\t{sum_y_train[x]}\\t{sum_y_test[x]}, {sum_y_test[x]/sum_y[x]*100:0.2f}%\\t{sum_y_val[x]}, {sum_y_val[x]/sum_y[x]*100:0.2f}%\")"
   ]
  },
  {
   "cell_type": "code",
   "execution_count": 29,
   "metadata": {},
   "outputs": [],
   "source": [
    "tokenizer = Tokenizer(num_words=5000)\n",
    "tokenizer.fit_on_texts(X_train)\n",
    "\n",
    "X_train = tokenizer.texts_to_sequences(X_train)\n",
    "X_test = tokenizer.texts_to_sequences(X_test)\n",
    "X_val = tokenizer.texts_to_sequences(X_val)\n",
    "\n",
    "vocab_size = len(tokenizer.word_index) + 1\n",
    "\n",
    "maxlen = 200\n",
    "\n",
    "X_train = pad_sequences(X_train, padding='post', maxlen=maxlen)\n",
    "X_test = pad_sequences(X_test, padding='post', maxlen=maxlen)\n",
    "X_val = pad_sequences(X_val, padding='post', maxlen=maxlen)"
   ]
  },
  {
   "cell_type": "code",
   "execution_count": 30,
   "metadata": {},
   "outputs": [],
   "source": [
    "from numpy import asarray\n",
    "from numpy import zeros\n",
    "\n",
    "embeddings_dictionary = dict()\n",
    "\n",
    "glove_file = open('glove.6B.100d.txt', encoding=\"utf8\")\n",
    "\n",
    "for line in glove_file:\n",
    "    records = line.split()\n",
    "    word = records[0]\n",
    "    vector_dimensions = asarray(records[1:], dtype='float32')\n",
    "    embeddings_dictionary[word] = vector_dimensions\n",
    "glove_file.close()\n",
    "\n",
    "embedding_matrix = zeros((vocab_size, 100))\n",
    "for word, index in tokenizer.word_index.items():\n",
    "    embedding_vector = embeddings_dictionary.get(word)\n",
    "    if embedding_vector is not None:\n",
    "        embedding_matrix[index] = embedding_vector"
   ]
  },
  {
   "cell_type": "code",
   "execution_count": 31,
   "metadata": {},
   "outputs": [
    {
     "name": "stdout",
     "output_type": "stream",
     "text": [
      "Model: \"sequential_1\"\n",
      "_________________________________________________________________\n",
      "Layer (type)                 Output Shape              Param #   \n",
      "=================================================================\n",
      "embedding_1 (Embedding)      (None, 200, 100)          3966800   \n",
      "_________________________________________________________________\n",
      "lstm_1 (LSTM)                (None, 128)               117248    \n",
      "_________________________________________________________________\n",
      "dense_1 (Dense)              (None, 20)                2580      \n",
      "=================================================================\n",
      "Total params: 4,086,628\n",
      "Trainable params: 119,828\n",
      "Non-trainable params: 3,966,800\n",
      "_________________________________________________________________\n"
     ]
    }
   ],
   "source": [
    "model = Sequential()\n",
    "model.add(Embedding(vocab_size, 100, input_length=maxlen, weights=[embedding_matrix], trainable=False))\n",
    "model.add(LSTM(128))\n",
    "model.add(Dense(number_of_classes, activation='sigmoid'))\n",
    "model.summary()"
   ]
  },
  {
   "cell_type": "code",
   "execution_count": 32,
   "metadata": {},
   "outputs": [
    {
     "name": "stdout",
     "output_type": "stream",
     "text": [
      "Train on 2228 samples, validate on 780 samples\n",
      "Epoch 1/30\n",
      "2228/2228 [==============================] - 8s 4ms/step - loss: 0.2444 - acc: 0.8720 - val_loss: 0.2546 - val_acc: 0.9231\n",
      "Epoch 2/30\n",
      "2228/2228 [==============================] - 8s 3ms/step - loss: 0.1434 - acc: 0.9292 - val_loss: 0.2524 - val_acc: 0.9231\n",
      "Epoch 3/30\n",
      "2228/2228 [==============================] - 8s 3ms/step - loss: 0.1405 - acc: 0.9292 - val_loss: 0.2494 - val_acc: 0.9231\n",
      "Epoch 4/30\n",
      "2228/2228 [==============================] - 8s 3ms/step - loss: 0.1391 - acc: 0.9292 - val_loss: 0.2514 - val_acc: 0.9231\n",
      "Epoch 5/30\n",
      "2228/2228 [==============================] - 8s 4ms/step - loss: 0.1385 - acc: 0.9292 - val_loss: 0.2482 - val_acc: 0.9231\n",
      "Epoch 6/30\n",
      "2228/2228 [==============================] - 8s 4ms/step - loss: 0.1373 - acc: 0.9292 - val_loss: 0.2482 - val_acc: 0.9231\n",
      "Epoch 7/30\n",
      "2228/2228 [==============================] - 8s 4ms/step - loss: 0.1361 - acc: 0.9292 - val_loss: 0.2439 - val_acc: 0.9231\n",
      "Epoch 8/30\n",
      "2228/2228 [==============================] - 8s 4ms/step - loss: 0.1352 - acc: 0.9292 - val_loss: 0.2498 - val_acc: 0.9231\n",
      "Epoch 9/30\n",
      "2228/2228 [==============================] - 8s 4ms/step - loss: 0.1339 - acc: 0.9292 - val_loss: 0.2445 - val_acc: 0.9231\n",
      "Epoch 10/30\n",
      "2228/2228 [==============================] - 8s 4ms/step - loss: 0.1332 - acc: 0.9292 - val_loss: 0.2469 - val_acc: 0.9231\n",
      "Epoch 11/30\n",
      "2228/2228 [==============================] - 8s 4ms/step - loss: 0.1318 - acc: 0.9292 - val_loss: 0.2406 - val_acc: 0.9231\n",
      "Epoch 12/30\n",
      "2228/2228 [==============================] - 9s 4ms/step - loss: 0.1307 - acc: 0.9292 - val_loss: 0.2466 - val_acc: 0.9231\n",
      "Epoch 13/30\n",
      "2228/2228 [==============================] - 9s 4ms/step - loss: 0.1285 - acc: 0.9292 - val_loss: 0.2348 - val_acc: 0.9234\n",
      "Epoch 14/30\n",
      "2228/2228 [==============================] - 10s 4ms/step - loss: 0.1291 - acc: 0.9293 - val_loss: 0.2495 - val_acc: 0.9231\n",
      "Epoch 15/30\n",
      "2228/2228 [==============================] - 10s 4ms/step - loss: 0.1270 - acc: 0.9294 - val_loss: 0.2390 - val_acc: 0.9231\n",
      "Epoch 16/30\n",
      "2228/2228 [==============================] - 10s 4ms/step - loss: 0.1274 - acc: 0.9293 - val_loss: 0.2385 - val_acc: 0.9232\n",
      "Epoch 17/30\n",
      "2228/2228 [==============================] - 10s 4ms/step - loss: 0.1260 - acc: 0.9295 - val_loss: 0.2406 - val_acc: 0.9231\n",
      "Epoch 18/30\n",
      "2228/2228 [==============================] - 10s 4ms/step - loss: 0.1312 - acc: 0.9295 - val_loss: 0.2481 - val_acc: 0.9231\n",
      "Epoch 19/30\n",
      "2228/2228 [==============================] - 10s 4ms/step - loss: 0.1306 - acc: 0.9292 - val_loss: 0.2422 - val_acc: 0.9231\n",
      "Epoch 20/30\n",
      "2228/2228 [==============================] - 10s 4ms/step - loss: 0.1272 - acc: 0.9292 - val_loss: 0.2401 - val_acc: 0.9231\n",
      "Epoch 21/30\n",
      "2228/2228 [==============================] - 10s 4ms/step - loss: 0.1232 - acc: 0.9300 - val_loss: 0.2407 - val_acc: 0.9231\n",
      "Epoch 22/30\n",
      "2228/2228 [==============================] - 10s 4ms/step - loss: 0.1194 - acc: 0.9301 - val_loss: 0.2376 - val_acc: 0.9240\n",
      "Epoch 23/30\n",
      "2228/2228 [==============================] - 10s 4ms/step - loss: 0.1232 - acc: 0.9301 - val_loss: 0.2326 - val_acc: 0.9230\n",
      "Epoch 24/30\n",
      "2228/2228 [==============================] - 10s 4ms/step - loss: 0.1187 - acc: 0.9301 - val_loss: 0.2274 - val_acc: 0.9232\n",
      "Epoch 25/30\n",
      "2228/2228 [==============================] - 9s 4ms/step - loss: 0.1147 - acc: 0.9304 - val_loss: 0.2332 - val_acc: 0.9236\n",
      "Epoch 26/30\n",
      "2228/2228 [==============================] - 10s 4ms/step - loss: 0.1129 - acc: 0.9307 - val_loss: 0.2691 - val_acc: 0.9229\n",
      "Epoch 27/30\n",
      "2228/2228 [==============================] - 10s 4ms/step - loss: 0.1216 - acc: 0.9304 - val_loss: 0.2227 - val_acc: 0.9247\n",
      "Epoch 28/30\n",
      "2228/2228 [==============================] - 10s 4ms/step - loss: 0.1136 - acc: 0.9314 - val_loss: 0.2266 - val_acc: 0.9238\n",
      "Epoch 29/30\n",
      "2228/2228 [==============================] - 9s 4ms/step - loss: 0.1088 - acc: 0.9315 - val_loss: 0.2163 - val_acc: 0.9249\n",
      "Epoch 30/30\n",
      "2228/2228 [==============================] - 9s 4ms/step - loss: 0.1057 - acc: 0.9327 - val_loss: 0.2112 - val_acc: 0.9256\n"
     ]
    }
   ],
   "source": [
    "# # keras_metrics.precision(), keras_metrics.recall()\n",
    "# METRICS = [\n",
    "#       keras.metrics.BinaryAccuracy(name='accuracy'),\n",
    "#       keras.metrics.Precision(name='precision'),\n",
    "#       keras.metrics.Recall(name='recall'),\n",
    "# #       keras.metrics.AUC(name='auc'),\n",
    "# #       keras.metrics.TruePositives(name='tp'),\n",
    "# #       keras.metrics.FalsePositives(name='fp'),\n",
    "# #       keras.metrics.TrueNegatives(name='tn'),\n",
    "# #       keras.metrics.FalseNegatives(name='fn'),\n",
    "# ]\n",
    "\n",
    "epoch_num = 30\n",
    "model.compile(loss='binary_crossentropy', optimizer='adam', metrics=['acc'])\n",
    "history = model.fit(X_train, y_train,\n",
    "                    batch_size=128,\n",
    "                    epochs=epoch_num,\n",
    "                    verbose=1,\n",
    "                    validation_data=(X_val, y_val),\n",
    "                    class_weight=class_weight)"
   ]
  },
  {
   "cell_type": "code",
   "execution_count": 33,
   "metadata": {},
   "outputs": [
    {
     "name": "stdout",
     "output_type": "stream",
     "text": [
      "729/729 [==============================] - 1s 2ms/step\n",
      "Test Score: 0.20923336306063073\n",
      "Test Accuracy: 0.9254456758499146\n"
     ]
    }
   ],
   "source": [
    "score = model.evaluate(X_test, y_test, verbose=1)\n",
    "\n",
    "print(\"Test Score:\", score[0])\n",
    "print(\"Test Accuracy:\", score[1])"
   ]
  },
  {
   "cell_type": "code",
   "execution_count": 35,
   "metadata": {},
   "outputs": [
    {
     "data": {
      "image/png": "[encoded data removed]",
      "text/plain": [
       "<Figure size 432x288 with 1 Axes>"
      ]
     },
     "metadata": {
      "needs_background": "light"
     },
     "output_type": "display_data"
    },
    {
     "data": {
      "image/png": "[encoded data removed]",
      "text/plain": [
       "<Figure size 432x288 with 1 Axes>"
      ]
     },
     "metadata": {
      "needs_background": "light"
     },
     "output_type": "display_data"
    }
   ],
   "source": [
    "import matplotlib.pyplot as plt\n",
    "\n",
    "plt.plot(history.history['acc'])\n",
    "plt.plot(history.history['val_acc'])\n",
    "\n",
    "plt.title('model accuracy')\n",
    "plt.ylabel('accuracy')\n",
    "plt.xlabel('epoch')\n",
    "plt.legend(['train','vaild'], loc='upper left')\n",
    "plt.savefig(\"glove_acc.png\")\n",
    "plt.show()\n",
    "\n",
    "plt.plot(history.history['loss'])\n",
    "plt.plot(history.history['val_loss'])\n",
    "\n",
    "plt.title('model loss')\n",
    "plt.ylabel('loss')\n",
    "plt.xlabel('epoch')\n",
    "plt.legend(['train','vaild'], loc='upper left')\n",
    "plt.savefig(\"glove_loss.png\")\n",
    "plt.show()"
   ]
  },
  {
   "cell_type": "code",
   "execution_count": null,
   "metadata": {},
   "outputs": [],
   "source": []
  },
  {
   "cell_type": "code",
   "execution_count": null,
   "metadata": {},
   "outputs": [],
   "source": []
  },
  {
   "cell_type": "code",
   "execution_count": null,
   "metadata": {},
   "outputs": [],
   "source": []
  },
  {
   "cell_type": "code",
   "execution_count": null,
   "metadata": {},
   "outputs": [],
   "source": []
  }
 ],
 "metadata": {
  "kernelspec": {
   "display_name": "Python 3",
   "language": "python",
   "name": "python3"
  },
  "language_info": {
   "codemirror_mode": {
    "name": "ipython",
    "version": 3
   },
   "file_extension": ".py",
   "mimetype": "text/x-python",
   "name": "python",
   "nbconvert_exporter": "python",
   "pygments_lexer": "ipython3",
   "version": "3.6.12"
  }
 },
 "nbformat": 4,
 "nbformat_minor": 4
}
