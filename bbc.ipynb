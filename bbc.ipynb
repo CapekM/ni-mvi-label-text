{
 "cells": [
  {
   "cell_type": "code",
   "execution_count": 1,
   "metadata": {},
   "outputs": [
    {
     "name": "stderr",
     "output_type": "stream",
     "text": [
      "Using TensorFlow backend.\n"
     ]
    }
   ],
   "source": [
    "from numpy import array\n",
    "from keras.preprocessing.text import one_hot\n",
    "from keras.preprocessing.sequence import pad_sequences\n",
    "from keras.models import Sequential\n",
    "from keras.layers.core import Activation, Dropout, Dense\n",
    "from keras.layers import Flatten, LSTM\n",
    "from keras.layers import GlobalMaxPooling1D\n",
    "from keras.models import Model\n",
    "from keras.layers.embeddings import Embedding\n",
    "from sklearn.model_selection import train_test_split\n",
    "from keras.preprocessing.text import Tokenizer\n",
    "from keras.layers import Input\n",
    "from keras.layers.merge import Concatenate\n",
    "\n",
    "import pandas as pd\n",
    "import numpy as np\n",
    "import re\n",
    "\n",
    "import matplotlib.pyplot as plt\n",
    "import json"
   ]
  },
  {
   "cell_type": "code",
   "execution_count": 2,
   "metadata": {},
   "outputs": [
    {
     "data": {
      "text/plain": [
       "3737"
      ]
     },
     "execution_count": 2,
     "metadata": {},
     "output_type": "execute_result"
    }
   ],
   "source": [
    "f = open('data.json', encoding=\"utf8\")\n",
    "data = json.load(f)\n",
    "len(data)"
   ]
  },
  {
   "cell_type": "code",
   "execution_count": 3,
   "metadata": {},
   "outputs": [],
   "source": [
    "for d in data:\n",
    "    d['text'] = d['title'] + d['text']"
   ]
  },
  {
   "cell_type": "code",
   "execution_count": 4,
   "metadata": {},
   "outputs": [
    {
     "data": {
      "text/html": [
       "<div>\n",
       "<style scoped>\n",
       "    .dataframe tbody tr th:only-of-type {\n",
       "        vertical-align: middle;\n",
       "    }\n",
       "\n",
       "    .dataframe tbody tr th {\n",
       "        vertical-align: top;\n",
       "    }\n",
       "\n",
       "    .dataframe thead th {\n",
       "        text-align: right;\n",
       "    }\n",
       "</style>\n",
       "<table border=\"1\" class=\"dataframe\">\n",
       "  <thead>\n",
       "    <tr style=\"text-align: right;\">\n",
       "      <th></th>\n",
       "      <th>labels</th>\n",
       "      <th>text</th>\n",
       "    </tr>\n",
       "  </thead>\n",
       "  <tbody>\n",
       "    <tr>\n",
       "      <th>0</th>\n",
       "      <td>[Coronavirus]</td>\n",
       "      <td>Coronavirus: Royal Mail's Derry staff in stand...</td>\n",
       "    </tr>\n",
       "    <tr>\n",
       "      <th>1</th>\n",
       "      <td>[US election 2020, Donald Trump]</td>\n",
       "      <td>US election 2020 polls: Who is ahead - Trump o...</td>\n",
       "    </tr>\n",
       "    <tr>\n",
       "      <th>2</th>\n",
       "      <td>[Personal finance, Companies, Retailing, Coron...</td>\n",
       "      <td>Visa and Mastercard accused of charging 'exces...</td>\n",
       "    </tr>\n",
       "    <tr>\n",
       "      <th>3</th>\n",
       "      <td>[United States]</td>\n",
       "      <td>Jeff Bridges: Oscar-winning US actor reveals h...</td>\n",
       "    </tr>\n",
       "    <tr>\n",
       "      <th>4</th>\n",
       "      <td>[Boris Johnson, Brexit]</td>\n",
       "      <td>Brexit: Have EU-UK trade talks reached a dead ...</td>\n",
       "    </tr>\n",
       "  </tbody>\n",
       "</table>\n",
       "</div>"
      ],
      "text/plain": [
       "                                              labels  \\\n",
       "0                                      [Coronavirus]   \n",
       "1                   [US election 2020, Donald Trump]   \n",
       "2  [Personal finance, Companies, Retailing, Coron...   \n",
       "3                                    [United States]   \n",
       "4                            [Boris Johnson, Brexit]   \n",
       "\n",
       "                                                text  \n",
       "0  Coronavirus: Royal Mail's Derry staff in stand...  \n",
       "1  US election 2020 polls: Who is ahead - Trump o...  \n",
       "2  Visa and Mastercard accused of charging 'exces...  \n",
       "3  Jeff Bridges: Oscar-winning US actor reveals h...  \n",
       "4  Brexit: Have EU-UK trade talks reached a dead ...  "
      ]
     },
     "execution_count": 4,
     "metadata": {},
     "output_type": "execute_result"
    }
   ],
   "source": [
    "df = pd.DataFrame(data)\n",
    "del df['website']\n",
    "del df['title']\n",
    "df.head()"
   ]
  },
  {
   "cell_type": "code",
   "execution_count": 5,
   "metadata": {},
   "outputs": [
    {
     "data": {
      "text/plain": [
       "array([[0, 0, 0, ..., 0, 0, 0],\n",
       "       [0, 0, 0, ..., 1, 0, 0],\n",
       "       [0, 0, 0, ..., 0, 0, 0],\n",
       "       ...,\n",
       "       [0, 0, 0, ..., 0, 0, 0],\n",
       "       [0, 0, 0, ..., 0, 0, 0],\n",
       "       [0, 0, 0, ..., 0, 0, 0]])"
      ]
     },
     "execution_count": 5,
     "metadata": {},
     "output_type": "execute_result"
    }
   ],
   "source": [
    "from sklearn.preprocessing import MultiLabelBinarizer\n",
    "mlb = MultiLabelBinarizer()\n",
    "y = mlb.fit_transform(df['labels'])\n",
    "y"
   ]
  },
  {
   "cell_type": "code",
   "execution_count": 6,
   "metadata": {},
   "outputs": [],
   "source": [
    "def preprocess_text(sen):\n",
    "    # Remove punctuations and numbers\n",
    "    sentence = re.sub('[^a-zA-Z]', ' ', sen)\n",
    "\n",
    "    # Single character removal\n",
    "    sentence = re.sub(r\"\\s+[a-zA-Z]\\s+\", ' ', sentence)\n",
    "\n",
    "    # Removing multiple spaces\n",
    "    sentence = re.sub(r'\\s+', ' ', sentence)\n",
    "\n",
    "    return sentence"
   ]
  },
  {
   "cell_type": "code",
   "execution_count": 7,
   "metadata": {},
   "outputs": [],
   "source": [
    "X = []\n",
    "sentences = list(df[\"text\"])\n",
    "for sen in sentences:\n",
    "    X.append(preprocess_text(sen))"
   ]
  },
  {
   "cell_type": "code",
   "execution_count": 8,
   "metadata": {},
   "outputs": [
    {
     "name": "stdout",
     "output_type": "stream",
     "text": [
      "Before:\n",
      "Coronavirus: Royal Mail's Derry staff in standoff over deep cleanRoyal Mail staff in Londonderry have refused to enter the city's sorting office until a deep clean of the premises is carried out. More than 40 staff - a third of its 120-strong workforce - are off work because of Covid-19, the Communication Workers' Union (CWU) said. The union said 17 staff at the office have tested positive, with 13 of those having been diagnosed since Friday. A further 25 members of staff are self-isolating, it added. The CWU's Charlie Kelly said it is a \"scary time for staff\". He said it is \"highly unlikely\" there will be a postal service in the city on Tuesday. \"Staff want a commitment as to when it (the deep clean) is going to get done,\" he said.  \"Until we get that commitment they say they are not going back into the building because they feel their health and safety is under threat.\" Staff and management are due to hold talks later on Tuesday morning. There have been 4,292 confirmed cases in the Derry and Strabane council area since March - 1,160 of them were diagnosed in the past seven days. BBC News NI have asked Royal Mail for comment. Royal Mail has previously warned postal services could be disrupted in some areas due to absences but that measures are in place to protect staff.  \"As well as encouraging good hand hygiene, standard ways of working have been revised to ensure that colleagues maintain appropriate social distancing at all times,\" a spokesperson said.\n",
      "\n",
      "After:\n",
      "Coronavirus Royal Mail Derry staff in standoff over deep cleanRoyal Mail staff in Londonderry have refused to enter the city sorting office until deep clean of the premises is carried out More than staff third of its strong workforce are off work because of Covid the Communication Workers Union CWU said The union said staff at the office have tested positive with of those having been diagnosed since Friday further members of staff are self isolating it added The CWU Charlie Kelly said it is scary time for staff He said it is highly unlikely there will be postal service in the city on Tuesday Staff want commitment as to when it the deep clean is going to get done he said Until we get that commitment they say they are not going back into the building because they feel their health and safety is under threat Staff and management are due to hold talks later on Tuesday morning There have been confirmed cases in the Derry and Strabane council area since March of them were diagnosed in the past seven days BBC News NI have asked Royal Mail for comment Royal Mail has previously warned postal services could be disrupted in some areas due to absences but that measures are in place to protect staff As well as encouraging good hand hygiene standard ways of working have been revised to ensure that colleagues maintain appropriate social distancing at all times spokesperson said \n"
     ]
    }
   ],
   "source": [
    "print(\"Before:\\n\" + df[\"text\"][0])\n",
    "print()\n",
    "print(\"After:\\n\" + X[0])"
   ]
  },
  {
   "cell_type": "code",
   "execution_count": 26,
   "metadata": {},
   "outputs": [
    {
     "name": "stdout",
     "output_type": "stream",
     "text": [
      "{'Boris Johnson': 170, 'Brexit': 277, 'Cardiff': 117, 'China': 296, 'Companies': 313, 'Coronavirus': 1898, 'Donald Trump': 243, 'India': 132, 'Manchester': 139, 'NHS': 228, 'Personal finance': 153, 'Police': 247, 'Retailing': 129, 'Self-isolation': 140, 'Social distancing': 102, 'Social media': 102, 'UK economy': 233, 'US election 2020': 100, 'United States': 333, 'Welsh government': 130}\n"
     ]
    },
    {
     "data": {
      "text/plain": [
       "{'Boris Johnson': 34,\n",
       " 'Brexit': 55,\n",
       " 'Cardiff': 23,\n",
       " 'China': 59,\n",
       " 'Companies': 62,\n",
       " 'Coronavirus': 379,\n",
       " 'Donald Trump': 48,\n",
       " 'India': 26,\n",
       " 'Manchester': 27,\n",
       " 'NHS': 45,\n",
       " 'Personal finance': 30,\n",
       " 'Police': 49,\n",
       " 'Retailing': 25,\n",
       " 'Self-isolation': 28,\n",
       " 'Social distancing': 20,\n",
       " 'Social media': 20,\n",
       " 'UK economy': 46,\n",
       " 'US election 2020': 20,\n",
       " 'United States': 66,\n",
       " 'Welsh government': 26}"
      ]
     },
     "execution_count": 26,
     "metadata": {},
     "output_type": "execute_result"
    }
   ],
   "source": [
    "tags = {}\n",
    "for t in mlb.classes_:\n",
    "    tags[t] = 0\n",
    "for l in df['labels']:\n",
    "    for t in l:\n",
    "        tags[t] += 1\n",
    "print(tags)\n",
    "\n",
    "for t in tags:\n",
    "    tags[t] = (int)(tags[t]*0.2)\n",
    "tags"
   ]
  },
  {
   "cell_type": "code",
   "execution_count": 27,
   "metadata": {},
   "outputs": [],
   "source": [
    "X_train = []\n",
    "X_test = []\n",
    "y_train = np.empty(shape=(0,len(mlb.classes_)),dtype=int) # bool?\n",
    "y_test = np.empty(shape=(0,len(mlb.classes_)),dtype=int)\n",
    "\n",
    "for x in range(len(X)):\n",
    "    flag = False\n",
    "    for t in df.iloc[x]['labels']:\n",
    "        if(tags[t] > 0):\n",
    "            flag = True\n",
    "    if flag:\n",
    "        for t in df.iloc[x]['labels']:\n",
    "            tags[t] -= 1\n",
    "        X_test.append(df.iloc[x]['text'])\n",
    "        y_test = np.vstack([y_test, y[x]])\n",
    "    else:\n",
    "        X_train.append(df.iloc[x]['text'])\n",
    "        y_train = np.vstack([y_train, y[x]])"
   ]
  },
  {
   "cell_type": "code",
   "execution_count": 28,
   "metadata": {},
   "outputs": [
    {
     "name": "stdout",
     "output_type": "stream",
     "text": [
      "Splitted to train 3005 and test 732 \n"
     ]
    }
   ],
   "source": [
    "print(f\"Splitted to train {len(X_train)} and test {len(X_test)} \")"
   ]
  },
  {
   "cell_type": "code",
   "execution_count": 29,
   "metadata": {},
   "outputs": [],
   "source": [
    "# X_train, X_test, y_train, y_test = train_test_split(X, y, test_size=0.20, random_state=42)"
   ]
  },
  {
   "cell_type": "code",
   "execution_count": 30,
   "metadata": {},
   "outputs": [
    {
     "data": {
      "image/png": "[encoded data removed]",
      "text/plain": [
       "<Figure size 1440x360 with 1 Axes>"
      ]
     },
     "metadata": {
      "needs_background": "light"
     },
     "output_type": "display_data"
    }
   ],
   "source": [
    "sum_y = y.sum(axis = 0)\n",
    "sum_y_train = y_train.sum(axis = 0)\n",
    "sum_y_test = y_test.sum(axis = 0)\n",
    "\n",
    "xloc = np.arange(y.shape[1])\n",
    "barWidth = 0.8\n",
    "\n",
    "#display stacked bar chart\n",
    "plt.figure(figsize=(20,5))\n",
    "p1 = plt.bar(xloc, sum_y_train, width=barWidth)\n",
    "p2 = plt.bar(xloc, sum_y_test, bottom=sum_y_train, width=barWidth)\n",
    "plt.xticks(xloc, mlb.classes_)\n",
    "# plt.savefig(\"train_test_split_ratio.png\")\n",
    "plt.show()"
   ]
  },
  {
   "cell_type": "code",
   "execution_count": 31,
   "metadata": {},
   "outputs": [
    {
     "data": {
      "text/plain": [
       "array([19.37984496, 19.42446043, 19.60784314, 19.6969697 , 19.73684211,\n",
       "       19.85559567, 19.93243243, 20.24291498, 20.42042042, 20.44728435,\n",
       "       20.51282051, 20.58823529, 20.58823529, 20.58823529, 21.23287671,\n",
       "       22.14285714, 22.30769231, 22.63374486, 23.17596567, 30.        ])"
      ]
     },
     "execution_count": 31,
     "metadata": {},
     "output_type": "execute_result"
    }
   ],
   "source": [
    "ratio = sum_y_test / sum_y * 100\n",
    "np.sort(ratio)\n",
    "# 30% is US election 2020"
   ]
  },
  {
   "cell_type": "code",
   "execution_count": 14,
   "metadata": {},
   "outputs": [],
   "source": [
    "tokenizer = Tokenizer(num_words=5000)\n",
    "tokenizer.fit_on_texts(X_train)\n",
    "\n",
    "X_train = tokenizer.texts_to_sequences(X_train)\n",
    "X_test = tokenizer.texts_to_sequences(X_test)\n",
    "\n",
    "vocab_size = len(tokenizer.word_index) + 1\n",
    "\n",
    "maxlen = 200\n",
    "\n",
    "X_train = pad_sequences(X_train, padding='post', maxlen=maxlen)\n",
    "X_test = pad_sequences(X_test, padding='post', maxlen=maxlen)"
   ]
  },
  {
   "cell_type": "code",
   "execution_count": 15,
   "metadata": {},
   "outputs": [],
   "source": [
    "from numpy import asarray\n",
    "from numpy import zeros\n",
    "\n",
    "embeddings_dictionary = dict()\n",
    "\n",
    "glove_file = open('glove.6B.100d.txt', encoding=\"utf8\")\n",
    "\n",
    "for line in glove_file:\n",
    "    records = line.split()\n",
    "    word = records[0]\n",
    "    vector_dimensions = asarray(records[1:], dtype='float32')\n",
    "    embeddings_dictionary[word] = vector_dimensions\n",
    "glove_file.close()\n",
    "\n",
    "embedding_matrix = zeros((vocab_size, 100))\n",
    "for word, index in tokenizer.word_index.items():\n",
    "    embedding_vector = embeddings_dictionary.get(word)\n",
    "    if embedding_vector is not None:\n",
    "        embedding_matrix[index] = embedding_vector"
   ]
  },
  {
   "cell_type": "code",
   "execution_count": 16,
   "metadata": {},
   "outputs": [
    {
     "name": "stdout",
     "output_type": "stream",
     "text": [
      "Model: \"sequential_1\"\n",
      "_________________________________________________________________\n",
      "Layer (type)                 Output Shape              Param #   \n",
      "=================================================================\n",
      "embedding_1 (Embedding)      (None, 200, 100)          4586500   \n",
      "_________________________________________________________________\n",
      "lstm_1 (LSTM)                (None, 128)               117248    \n",
      "_________________________________________________________________\n",
      "dense_1 (Dense)              (None, 20)                2580      \n",
      "=================================================================\n",
      "Total params: 4,706,328\n",
      "Trainable params: 119,828\n",
      "Non-trainable params: 4,586,500\n",
      "_________________________________________________________________\n"
     ]
    }
   ],
   "source": [
    "number_of_classes = y.shape[1]\n",
    "model = Sequential()\n",
    "model.add(Embedding(vocab_size, 100, input_length=maxlen, weights=[embedding_matrix], trainable=False))\n",
    "model.add(LSTM(128))\n",
    "model.add(Dense(number_of_classes, activation='sigmoid'))\n",
    "model.summary()"
   ]
  },
  {
   "cell_type": "code",
   "execution_count": 17,
   "metadata": {},
   "outputs": [
    {
     "name": "stdout",
     "output_type": "stream",
     "text": [
      "Train on 2404 samples, validate on 601 samples\n",
      "Epoch 1/8\n",
      "2404/2404 [==============================] - 10s 4ms/step - loss: 0.3762 - acc: 0.8878 - val_loss: 0.2168 - val_acc: 0.9305\n",
      "Epoch 2/8\n",
      "2404/2404 [==============================] - 8s 3ms/step - loss: 0.2223 - acc: 0.9290 - val_loss: 0.2153 - val_acc: 0.9318\n",
      "Epoch 3/8\n",
      "2404/2404 [==============================] - 8s 3ms/step - loss: 0.2192 - acc: 0.9295 - val_loss: 0.2131 - val_acc: 0.9319\n",
      "Epoch 4/8\n",
      "2404/2404 [==============================] - 8s 3ms/step - loss: 0.2175 - acc: 0.9307 - val_loss: 0.2117 - val_acc: 0.9331\n",
      "Epoch 5/8\n",
      "2404/2404 [==============================] - 8s 3ms/step - loss: 0.2163 - acc: 0.9314 - val_loss: 0.2105 - val_acc: 0.9324\n",
      "Epoch 6/8\n",
      "2404/2404 [==============================] - 8s 3ms/step - loss: 0.2148 - acc: 0.9318 - val_loss: 0.2103 - val_acc: 0.9344\n",
      "Epoch 7/8\n",
      "2404/2404 [==============================] - 8s 3ms/step - loss: 0.2122 - acc: 0.9329 - val_loss: 0.2068 - val_acc: 0.9372\n",
      "Epoch 8/8\n",
      "2404/2404 [==============================] - 8s 3ms/step - loss: 0.2096 - acc: 0.9325 - val_loss: 0.2048 - val_acc: 0.9374\n"
     ]
    }
   ],
   "source": [
    "epoch_num = 8\n",
    "model.compile(loss='binary_crossentropy', optimizer='adam', metrics=['acc'])\n",
    "history = model.fit(X_train, y_train, batch_size=128, epochs=epoch_num, verbose=1, validation_split=0.2) # validation may not be good"
   ]
  },
  {
   "cell_type": "code",
   "execution_count": 18,
   "metadata": {},
   "outputs": [
    {
     "name": "stdout",
     "output_type": "stream",
     "text": [
      "732/732 [==============================] - 1s 1ms/step\n",
      "Test Score: 0.22309359224116215\n",
      "Test Accuracy: 0.9297130107879639\n"
     ]
    }
   ],
   "source": [
    "score = model.evaluate(X_test, y_test, verbose=1)\n",
    "\n",
    "print(\"Test Score:\", score[0])\n",
    "print(\"Test Accuracy:\", score[1])"
   ]
  },
  {
   "cell_type": "code",
   "execution_count": 19,
   "metadata": {},
   "outputs": [
    {
     "data": {
      "image/png": "[encoded data removed]",
      "text/plain": [
       "<Figure size 432x288 with 1 Axes>"
      ]
     },
     "metadata": {
      "needs_background": "light"
     },
     "output_type": "display_data"
    },
    {
     "data": {
      "image/png": "[encoded data removed]",
      "text/plain": [
       "<Figure size 432x288 with 1 Axes>"
      ]
     },
     "metadata": {
      "needs_background": "light"
     },
     "output_type": "display_data"
    }
   ],
   "source": [
    "import matplotlib.pyplot as plt\n",
    "\n",
    "plt.plot(history.history['acc'])\n",
    "plt.plot(history.history['val_acc'])\n",
    "\n",
    "plt.title('model accuracy')\n",
    "plt.ylabel('accuracy')\n",
    "plt.xlabel('epoch')\n",
    "plt.legend(['train','vaild'], loc='upper left')\n",
    "plt.show()\n",
    "\n",
    "plt.plot(history.history['loss'])\n",
    "plt.plot(history.history['val_loss'])\n",
    "\n",
    "plt.title('model loss')\n",
    "plt.ylabel('loss')\n",
    "plt.xlabel('epoch')\n",
    "plt.legend(['train','vaild'], loc='upper left')\n",
    "plt.show()"
   ]
  },
  {
   "cell_type": "code",
   "execution_count": null,
   "metadata": {},
   "outputs": [],
   "source": []
  },
  {
   "cell_type": "code",
   "execution_count": null,
   "metadata": {},
   "outputs": [],
   "source": []
  },
  {
   "cell_type": "code",
   "execution_count": null,
   "metadata": {},
   "outputs": [],
   "source": []
  }
 ],
 "metadata": {
  "kernelspec": {
   "display_name": "Python 3",
   "language": "python",
   "name": "python3"
  },
  "language_info": {
   "codemirror_mode": {
    "name": "ipython",
    "version": 3
   },
   "file_extension": ".py",
   "mimetype": "text/x-python",
   "name": "python",
   "nbconvert_exporter": "python",
   "pygments_lexer": "ipython3",
   "version": "3.7.9"
  }
 },
 "nbformat": 4,
 "nbformat_minor": 4
}
